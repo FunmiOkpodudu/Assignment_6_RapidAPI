{
 "cells": [
  {
   "cell_type": "code",
   "execution_count": 2,
   "id": "8e58859b",
   "metadata": {},
   "outputs": [
    {
     "data": {
      "text/plain": [
       "{'status': 'OK',\n",
       " 'request_id': 'e67d4d89-eae3-421a-be0c-7407815be131',\n",
       " 'parameters': {'query': 'data engineer in ontario, canada',\n",
       "  'page': 4,\n",
       "  'num_pages': 10,\n",
       "  'date_posted': 'month',\n",
       "  'remote_jobs_only': True,\n",
       "  'job_requirements': ['years3under']},\n",
       " 'data': [{'employer_name': 'Touchtunes Music Corporation',\n",
       "   'employer_logo': 'https://encrypted-tbn0.gstatic.com/images?q=tbn:ANd9GcTn3aOe0YL_ypfI2GmTfSM2Uans4stRBfTolBUO&s=0',\n",
       "   'employer_website': 'http://www.touchtunes.com',\n",
       "   'employer_company_type': None,\n",
       "   'job_publisher': 'Glassdoor',\n",
       "   'job_id': 'mqypg1vqNZIAAAAAAAAAAA==',\n",
       "   'job_employment_type': 'FULLTIME',\n",
       "   'job_title': 'Ingénieur de données',\n",
       "   'job_apply_link': 'https://fr.glassdoor.ca/job-listing/ing%C3%A9nieur-de-donn%C3%A9es-touchtunes-JV_IC2296722_KO0,20_KE21,31.htm?jl=1008714619458',\n",
       "   'job_apply_is_direct': True,\n",
       "   'job_apply_quality_score': 0.5696,\n",
       "   'job_description': \"• ️ Pôle technologique hybride de Montréal\\n• Votre mission au sein l'équipe Data Science :\\n• Vous concevrez et développerez des pipelines de données évolutifs et efficaces sur Databricks, en utilisant Spark, Python et SQL pour extraire et déplacer des données à partir de multiples sources de données au sein de l'organisation, tout en permettant aux scientifiques des données et aux gestionnaires de produits de livrer des produits excitants.\\n• Notre stack :\\n• Pipeline: Databricks\\n• Cloud: AWS\\n• Stack: Python & SQL (expert(e))\\n• Container: Docker & Kubernetes\\n• Architecture: Microservices\\n• Votre profil :\\n• Au moins 2 ans dans un rôle d'ingénierie de données ou d'ingénierie ML.\\n• Expérience des plateformes big data et des plateformes cloud\\n• Expérience dans l'assemblage de big data complexes qui répondent aux exigences fonctionnelles / non fonctionnelles de l'entreprise.\\n• Expérience de la science des données et des cadres et bibliothèques de ML.\\n• Familiarité avec l'entreposage de données, les lacs de données et les concepts de modélisation des données.\\n• Vos atouts:\\n• Expérience avec Scala ou Java\\n• Expérience avec PyTorch ou Tensorflow\\n\\n❤️ Nos avantages :\\n• Travail flexible : Environnement de bureau hybride (télétravail et burau) et possibilité de travailler à partir de n'importe où dans le monde jusqu'à 1 mois/an.\\n• Formation : Accès gratuit à Udemy, possibilité d'assister à des conférences dans le domaine de votre choix !\\n• Santé : Assurance maladie compétitive, application Dialogue et jours de maladie illimités.\\n• Déplacements domicile-travail : 50% de réduction sur le train OPUS et EXO.\\n• Bureau : Bureau accessible aux personnes handicapées.\\n• Etc. : Cotisation de contrepartie au REER, couverture vie/invalidité, déjeuner hebdomadaire gratuit et collations saines, Communauté Culture Collective de sTouchTunes.\\n• TouchTunes\\n\\nPrésent dans plus de 65\\u2009000 bars, restaurants et autres lieux de rencontre en Amérique du Nord et en Europe, TouchTunes rassemble les gens grâce à des solutions musicales et de divertissement amusant et interactif, améliorant ainsi la façon dont les gens interagissent entre eux et avec leur environnement. Nos applications mobiles natives et nos jukes sont vus et entendus par des millions de personnes chaque jour à travers le réseau et la communauté TouchTunes.\\n\\nNous sommes convaincus que notre équipe doit être aussi diversifiée que la musique que nous écoutons.\\n• TouchTunes est un fier allié de QueerTech.\",\n",
       "   'job_is_remote': True,\n",
       "   'job_posted_at_timestamp': 1689811200,\n",
       "   'job_posted_at_datetime_utc': '2023-07-20T00:00:00.000Z',\n",
       "   'job_city': 'Montréal',\n",
       "   'job_state': 'QC',\n",
       "   'job_country': 'CA',\n",
       "   'job_latitude': 45.50189,\n",
       "   'job_longitude': -73.56739,\n",
       "   'job_benefits': None,\n",
       "   'job_google_link': 'https://www.google.com/search?gl=us&hl=en&rciv=jb&q=data+engineer+in+ontario,+canada&start=30&ltype=1&chips=date_posted:month,requirements:years3under&schips=date_posted;month,requirements;years3under&ibp=htl;jobs#fpstate=tldetail&htivrt=jobs&htiq=data+engineer+in+ontario,+canada&htidocid=mqypg1vqNZIAAAAAAAAAAA%3D%3D',\n",
       "   'job_offer_expiration_datetime_utc': None,\n",
       "   'job_offer_expiration_timestamp': None,\n",
       "   'job_required_experience': {'no_experience_required': False,\n",
       "    'required_experience_in_months': 24,\n",
       "    'experience_mentioned': False,\n",
       "    'experience_preferred': False},\n",
       "   'job_required_skills': None,\n",
       "   'job_required_education': {'postgraduate_degree': False,\n",
       "    'professional_certification': False,\n",
       "    'high_school': False,\n",
       "    'associates_degree': False,\n",
       "    'bachelors_degree': False,\n",
       "    'degree_mentioned': False,\n",
       "    'degree_preferred': False,\n",
       "    'professional_certification_mentioned': False},\n",
       "   'job_experience_in_place_of_education': False,\n",
       "   'job_min_salary': None,\n",
       "   'job_max_salary': None,\n",
       "   'job_salary_currency': None,\n",
       "   'job_salary_period': None,\n",
       "   'job_highlights': {},\n",
       "   'job_job_title': None,\n",
       "   'job_posting_language': 'fr',\n",
       "   'job_onet_soc': '15113200',\n",
       "   'job_onet_job_zone': '4'},\n",
       "  {'employer_name': 'Astek Canada',\n",
       "   'employer_logo': 'https://encrypted-tbn0.gstatic.com/images?q=tbn:ANd9GcSXJ0jQRbKeV4cGrxUsV5XNJRjNMz3juHFIbC1w&s=0',\n",
       "   'employer_website': None,\n",
       "   'employer_company_type': None,\n",
       "   'job_publisher': 'LinkedIn',\n",
       "   'job_id': '60CdEW6cY8QAAAAAAAAAAA==',\n",
       "   'job_employment_type': 'FULLTIME',\n",
       "   'job_title': 'Ingénieur de données/Ingénieure de données',\n",
       "   'job_apply_link': 'https://ca.linkedin.com/jobs/view/ing%C3%A9nieur-de-donn%C3%A9es-ing%C3%A9nieure-de-donn%C3%A9es-at-astek-canada-3630379093',\n",
       "   'job_apply_is_direct': False,\n",
       "   'job_apply_quality_score': 0.5746,\n",
       "   'job_description': \"Poste permanent\\n\\n40h/semaine\\n\\nAstek recherche pour un de ses clients un Ingénieur de données\\n\\nRésumé du poste :\\n\\nEn tant qu'ingénieur de données, vous jouerez un rôle central dans l'amélioration de notre infrastructure de données, l'optimisation des pipelines de données et la garantie d'une livraison de données fiable et efficace pour notre organisation. Vous collaborerez avec des équipes interfonctionnelles, comprenant des ingénieurs logiciels, des analystes commerciaux et des chefs de produit, pour concevoir, développer et mettre en œuvre des solutions de données évolutives et robustes. Votre expertise en ingénierie et analyse de données nous permettra d'obtenir des informations précieuses à partir d'ensembles de données complexes, conduisant finalement à une prise de décision éclairée par les données dans toute l'organisation.\\n\\nResponsabilités:\\n\\n● Évaluer l'infrastructure de données actuelle : Effectuer une évaluation approfondie de notre infrastructure de données, de nos systèmes et de nos processus existants, en identifiant les domaines d'amélioration.\\n\\n● Concevoir et développer des solutions de données : Concevoir, créer et déployer des solutions de données évolutives et maintenables, y compris des pipelines de données, des processus ETL/ELT et des entrepôts de données, qui répondent aux besoins en constante évolution de nos exigences en matière d'analyse de données.\\n\\n● Modélisation et optimisation des données :Concevoir et mettre en œuvre des modèles de données efficaces, garantissant l'intégrité, les performances et l'évolution des données. Optimiser les processus de stockage et de récupération des données pour améliorer les performances globales du système.\\n\\n● Développement de pipeline de données : Développer et maintenir des pipelines de données robustes, garantissant une extraction, une transformation et un chargement (ETL) fluides et fiables des données provenant de diverses sources dans l'entrepôt de données ou le lac de données.\\n\\n● Assurance qualité des données : Mettre en œuvre des contrôles de la qualité des données, des validations et des processus de nettoyage pour garantir l'exactitude, la cohérence et la fiabilité des données dans l'ensemble des systèmes d'analyse.\\n\\n● Collaboration et documentation : Collaborer avec des équipes interfonctionnelles, y compris des ingénieurs logiciels, des analystes commerciaux, des chefs de produit, pour comprendre leurs besoins en données et fournir des conseils techniques. Documenter les processus d'ingénierie des données, les flux de travail et les meilleures pratiques.\\n\\n● Surveillance et entretien : Surveiller les pipelines de données, identifier et résoudre les problèmes de manière proactive, et assurer la haute disponibilité et les performances des systèmes d'analyse de données. Mettre en œuvre des stratégies appropriées de sauvegarde et de récupération des données.\\n\\n● Sécurité et conformité : Mettre en œuvre des mesures de sécurité et de confidentialité des données, en respectant les normes de l'industrie et les exigences réglementaires telles que GDPR ou CCPA.\\n\\n● Amélioration continue: Rester à jour avec les dernières tendances et avancées en matière d'ingénierie et d'analyse de données. Proposer et mettre en œuvre des améliorations et des optimisations pour améliorer l'efficience et l'efficacité globales de notre infrastructure de données.\\n\\n● La collaboration d'équipe: Travailler en collaboration avec d'autres membres de l'équipe, encadrer des ingénieurs de données juniors ou des passionnés, et participer activement aux initiatives de partage des connaissances et de formation croisée.\\n\\nQualifications:\\n\\n● Baccalauréat ou maîtrise en informatique, en science des données ou dans un domaine connexe.\\n\\n● Expérience avérée en tant qu'ingénieur de données, de préférence dans un projet similaire ou de migration. Au moins 2 ans d'expérience dans un poste précédent.\\n\\n● Maîtrise des langages de programmation tels que Python.\\n\\n● Expérience avec les outils et frameworks de pipeline de données (AirFlow, DBT, Kafka, Stitch, …).\\n\\n● Connaissance approfondie des bases de données relationnelles et NoSQL, de la modélisation des données et de SQL.\\n\\n● Familiarité avec les plates-formes de stockage et de traitement de données basées sur le cloud (par exemple, AWS).\\n\\n● Familiarité avec les outils de reporting décisionnel (Tableau, QuickSight, Looker, …)\\n\\n● Compréhension des concepts et des technologies d'entreposage de données (par exemple, Snowflake, Redshift, ).\\n\\n● Maîtrise des systèmes de contrôle de version (par exemple, Git) et des méthodologies de développement agiles.\\n\\n● Solide compréhension des pratiques de gouvernance, de sécurité et de conformité des données.\\n\\n● Solides compétences en résolution de problèmes et capacité à travailler dans un environnement en évolution rapide.\\n\\n● Excellentes compétences en communication, tant à l'oral qu'à l'écrit, en français et en anglais\\n\\n● Souci du détail et engagement à fournir un travail de haute qualité\",\n",
       "   'job_is_remote': True,\n",
       "   'job_posted_at_timestamp': 1690898518,\n",
       "   'job_posted_at_datetime_utc': '2023-08-01T14:01:58.000Z',\n",
       "   'job_city': 'Montréal',\n",
       "   'job_state': 'QC',\n",
       "   'job_country': 'CA',\n",
       "   'job_latitude': 45.50189,\n",
       "   'job_longitude': -73.56739,\n",
       "   'job_benefits': None,\n",
       "   'job_google_link': 'https://www.google.com/search?gl=us&hl=en&rciv=jb&q=data+engineer+in+ontario,+canada&start=30&ltype=1&chips=date_posted:month,requirements:years3under&schips=date_posted;month,requirements;years3under&ibp=htl;jobs#fpstate=tldetail&htivrt=jobs&htiq=data+engineer+in+ontario,+canada&htidocid=60CdEW6cY8QAAAAAAAAAAA%3D%3D',\n",
       "   'job_offer_expiration_datetime_utc': '2023-09-11T18:42:50.000Z',\n",
       "   'job_offer_expiration_timestamp': 1694457770,\n",
       "   'job_required_experience': {'no_experience_required': False,\n",
       "    'required_experience_in_months': 24,\n",
       "    'experience_mentioned': False,\n",
       "    'experience_preferred': False},\n",
       "   'job_required_skills': None,\n",
       "   'job_required_education': {'postgraduate_degree': False,\n",
       "    'professional_certification': False,\n",
       "    'high_school': False,\n",
       "    'associates_degree': False,\n",
       "    'bachelors_degree': True,\n",
       "    'degree_mentioned': True,\n",
       "    'degree_preferred': False,\n",
       "    'professional_certification_mentioned': False},\n",
       "   'job_experience_in_place_of_education': False,\n",
       "   'job_min_salary': None,\n",
       "   'job_max_salary': None,\n",
       "   'job_salary_currency': None,\n",
       "   'job_salary_period': None,\n",
       "   'job_highlights': {},\n",
       "   'job_job_title': None,\n",
       "   'job_posting_language': 'fr',\n",
       "   'job_onet_soc': '15113200',\n",
       "   'job_onet_job_zone': '4'},\n",
       "  {'employer_name': 'Smart Apartment Data',\n",
       "   'employer_logo': 'https://encrypted-tbn0.gstatic.com/images?q=tbn:ANd9GcStwam500QVSMNS0fq22sTx2CjeQagtnR_CYG_y&s=0',\n",
       "   'employer_website': None,\n",
       "   'employer_company_type': None,\n",
       "   'job_publisher': 'Glassdoor',\n",
       "   'job_id': 'O9rU4ao9jvIAAAAAAAAAAA==',\n",
       "   'job_employment_type': 'FULLTIME',\n",
       "   'job_title': 'Tableau Developer',\n",
       "   'job_apply_link': 'https://www.glassdoor.ca/job-listing/tableau-developer-smart-apartment-data-JV_KO0,17_KE18,38.htm?jl=1008728695061',\n",
       "   'job_apply_is_direct': True,\n",
       "   'job_apply_quality_score': 0.564,\n",
       "   'job_description': \"Are you looking to work with the latest technologies in Big Data for an award-winning software company? Smart Apartment Data is an employee-rated five-star company and a winner of the 'Houston Best & Brightest Companies to Work for'. We are looking for an experienced Tableau Developer to join our team and help us transform complex data into actionable insights.\\n\\nThe Tableau Developer will be responsible for designing, developing, and implementing data visualizations, dashboards, and reports using Tableau. They will work closely with the business users and UX designers to understand user requirements and design effective visualizations and dashboards. The Tableau Developer will also be responsible for data preparation, transformation, and modeling required to support Tableau dashboards. Knowledge of SQL Server is required to perform these tasks.\\n\\nKey Responsibilities:\\n• Design, develop, and maintain Tableau dashboards, reports, and visualizations\\n• Collaborate with business users and UX designers to understand user requirements and design effective visualizations and dashboards\\n• Prepare, transform, and model data from various sources into Tableau using SQL Server\\n• Create documentation and train end-users on the use of Tableau dashboards\\n• Troubleshoot and resolve issues related to Tableau dashboards and data sources\\n• Work with UX developers to ensure that the user interface and user experience of Tableau dashboards are intuitive and user-friendly\\n• Continuously improve the design and functionality of Tableau dashboards based on user feedback and industry best practices\\n\\nRequirements:\\n• 2+ years of experience in Tableau development\\n• Strong understanding of Microsoft SQL Server\\n• Experience with various data sources, such as relational databases, flat files, APIs, etc.\\n• Experience with data visualization best practices\\n• Strong communication and collaboration skills\\n• Ability to work independently and in a team environment\\n\\nJob Type: Full-time\\n\\nPay: $4,600.00-$5,250.00 per month\\n\\nSchedule:\\n• 8 hour shift\\n\\nExperience:\\n• Tableau: 2 years (Required)\\n• Microsoft SQL server: 2 years (Required)\\n• Business Intelligence Analyst: 2 years (Preferred)\\n• Data Analyst: 2 years (Preferred)\\n\\nWork Location: Remote\",\n",
       "   'job_is_remote': True,\n",
       "   'job_posted_at_timestamp': 1690502400,\n",
       "   'job_posted_at_datetime_utc': '2023-07-28T00:00:00.000Z',\n",
       "   'job_city': None,\n",
       "   'job_state': None,\n",
       "   'job_country': 'CA',\n",
       "   'job_latitude': 56.130367,\n",
       "   'job_longitude': -106.34677,\n",
       "   'job_benefits': None,\n",
       "   'job_google_link': 'https://www.google.com/search?gl=us&hl=en&rciv=jb&q=data+engineer+in+ontario,+canada&start=30&ltype=1&chips=date_posted:month,requirements:years3under&schips=date_posted;month,requirements;years3under&ibp=htl;jobs#fpstate=tldetail&htivrt=jobs&htiq=data+engineer+in+ontario,+canada&htidocid=O9rU4ao9jvIAAAAAAAAAAA%3D%3D',\n",
       "   'job_offer_expiration_datetime_utc': None,\n",
       "   'job_offer_expiration_timestamp': None,\n",
       "   'job_required_experience': {'no_experience_required': False,\n",
       "    'required_experience_in_months': 24,\n",
       "    'experience_mentioned': True,\n",
       "    'experience_preferred': False},\n",
       "   'job_required_skills': None,\n",
       "   'job_required_education': {'postgraduate_degree': False,\n",
       "    'professional_certification': False,\n",
       "    'high_school': False,\n",
       "    'associates_degree': False,\n",
       "    'bachelors_degree': False,\n",
       "    'degree_mentioned': False,\n",
       "    'degree_preferred': False,\n",
       "    'professional_certification_mentioned': False},\n",
       "   'job_experience_in_place_of_education': False,\n",
       "   'job_min_salary': 4600,\n",
       "   'job_max_salary': 5250,\n",
       "   'job_salary_currency': 'CAD',\n",
       "   'job_salary_period': 'MONTH',\n",
       "   'job_highlights': {},\n",
       "   'job_job_title': None,\n",
       "   'job_posting_language': 'en',\n",
       "   'job_onet_soc': '15113200',\n",
       "   'job_onet_job_zone': '4'}]}"
      ]
     },
     "execution_count": 2,
     "metadata": {},
     "output_type": "execute_result"
    }
   ],
   "source": [
    "import requests\n",
    "\n",
    "url = \"https://jsearch.p.rapidapi.com/search\"\n",
    "\n",
    "querystring = {\"query\":\"Data Engineer in Ontario, Canada\",\"page\":\"4\",\"num_pages\":\"10\",\"date_posted\":\"month\",\"remote_jobs_only\":\"true\",\"job_requirements\":\"under_3_years_experience\"}\n",
    "\n",
    "headers = {\n",
    "\t\"X-RapidAPI-Key\": [Rapid API],\n",
    "\t\"X-RapidAPI-Host\": \"jsearch.p.rapidapi.com\"\n",
    "}\n",
    "\n",
    "response = requests.get(url, headers=headers, params=querystring)\n",
    "\n",
    "response.json()"
   ]
  },
  {
   "cell_type": "code",
   "execution_count": 3,
   "id": "5b730714",
   "metadata": {},
   "outputs": [],
   "source": [
    "data = response.json()"
   ]
  },
  {
   "cell_type": "code",
   "execution_count": 4,
   "id": "1c1ea22f",
   "metadata": {},
   "outputs": [
    {
     "data": {
      "text/plain": [
       "{'status': 'OK',\n",
       " 'request_id': 'e67d4d89-eae3-421a-be0c-7407815be131',\n",
       " 'parameters': {'query': 'data engineer in ontario, canada',\n",
       "  'page': 4,\n",
       "  'num_pages': 10,\n",
       "  'date_posted': 'month',\n",
       "  'remote_jobs_only': True,\n",
       "  'job_requirements': ['years3under']},\n",
       " 'data': [{'employer_name': 'Touchtunes Music Corporation',\n",
       "   'employer_logo': 'https://encrypted-tbn0.gstatic.com/images?q=tbn:ANd9GcTn3aOe0YL_ypfI2GmTfSM2Uans4stRBfTolBUO&s=0',\n",
       "   'employer_website': 'http://www.touchtunes.com',\n",
       "   'employer_company_type': None,\n",
       "   'job_publisher': 'Glassdoor',\n",
       "   'job_id': 'mqypg1vqNZIAAAAAAAAAAA==',\n",
       "   'job_employment_type': 'FULLTIME',\n",
       "   'job_title': 'Ingénieur de données',\n",
       "   'job_apply_link': 'https://fr.glassdoor.ca/job-listing/ing%C3%A9nieur-de-donn%C3%A9es-touchtunes-JV_IC2296722_KO0,20_KE21,31.htm?jl=1008714619458',\n",
       "   'job_apply_is_direct': True,\n",
       "   'job_apply_quality_score': 0.5696,\n",
       "   'job_description': \"• ️ Pôle technologique hybride de Montréal\\n• Votre mission au sein l'équipe Data Science :\\n• Vous concevrez et développerez des pipelines de données évolutifs et efficaces sur Databricks, en utilisant Spark, Python et SQL pour extraire et déplacer des données à partir de multiples sources de données au sein de l'organisation, tout en permettant aux scientifiques des données et aux gestionnaires de produits de livrer des produits excitants.\\n• Notre stack :\\n• Pipeline: Databricks\\n• Cloud: AWS\\n• Stack: Python & SQL (expert(e))\\n• Container: Docker & Kubernetes\\n• Architecture: Microservices\\n• Votre profil :\\n• Au moins 2 ans dans un rôle d'ingénierie de données ou d'ingénierie ML.\\n• Expérience des plateformes big data et des plateformes cloud\\n• Expérience dans l'assemblage de big data complexes qui répondent aux exigences fonctionnelles / non fonctionnelles de l'entreprise.\\n• Expérience de la science des données et des cadres et bibliothèques de ML.\\n• Familiarité avec l'entreposage de données, les lacs de données et les concepts de modélisation des données.\\n• Vos atouts:\\n• Expérience avec Scala ou Java\\n• Expérience avec PyTorch ou Tensorflow\\n\\n❤️ Nos avantages :\\n• Travail flexible : Environnement de bureau hybride (télétravail et burau) et possibilité de travailler à partir de n'importe où dans le monde jusqu'à 1 mois/an.\\n• Formation : Accès gratuit à Udemy, possibilité d'assister à des conférences dans le domaine de votre choix !\\n• Santé : Assurance maladie compétitive, application Dialogue et jours de maladie illimités.\\n• Déplacements domicile-travail : 50% de réduction sur le train OPUS et EXO.\\n• Bureau : Bureau accessible aux personnes handicapées.\\n• Etc. : Cotisation de contrepartie au REER, couverture vie/invalidité, déjeuner hebdomadaire gratuit et collations saines, Communauté Culture Collective de sTouchTunes.\\n• TouchTunes\\n\\nPrésent dans plus de 65\\u2009000 bars, restaurants et autres lieux de rencontre en Amérique du Nord et en Europe, TouchTunes rassemble les gens grâce à des solutions musicales et de divertissement amusant et interactif, améliorant ainsi la façon dont les gens interagissent entre eux et avec leur environnement. Nos applications mobiles natives et nos jukes sont vus et entendus par des millions de personnes chaque jour à travers le réseau et la communauté TouchTunes.\\n\\nNous sommes convaincus que notre équipe doit être aussi diversifiée que la musique que nous écoutons.\\n• TouchTunes est un fier allié de QueerTech.\",\n",
       "   'job_is_remote': True,\n",
       "   'job_posted_at_timestamp': 1689811200,\n",
       "   'job_posted_at_datetime_utc': '2023-07-20T00:00:00.000Z',\n",
       "   'job_city': 'Montréal',\n",
       "   'job_state': 'QC',\n",
       "   'job_country': 'CA',\n",
       "   'job_latitude': 45.50189,\n",
       "   'job_longitude': -73.56739,\n",
       "   'job_benefits': None,\n",
       "   'job_google_link': 'https://www.google.com/search?gl=us&hl=en&rciv=jb&q=data+engineer+in+ontario,+canada&start=30&ltype=1&chips=date_posted:month,requirements:years3under&schips=date_posted;month,requirements;years3under&ibp=htl;jobs#fpstate=tldetail&htivrt=jobs&htiq=data+engineer+in+ontario,+canada&htidocid=mqypg1vqNZIAAAAAAAAAAA%3D%3D',\n",
       "   'job_offer_expiration_datetime_utc': None,\n",
       "   'job_offer_expiration_timestamp': None,\n",
       "   'job_required_experience': {'no_experience_required': False,\n",
       "    'required_experience_in_months': 24,\n",
       "    'experience_mentioned': False,\n",
       "    'experience_preferred': False},\n",
       "   'job_required_skills': None,\n",
       "   'job_required_education': {'postgraduate_degree': False,\n",
       "    'professional_certification': False,\n",
       "    'high_school': False,\n",
       "    'associates_degree': False,\n",
       "    'bachelors_degree': False,\n",
       "    'degree_mentioned': False,\n",
       "    'degree_preferred': False,\n",
       "    'professional_certification_mentioned': False},\n",
       "   'job_experience_in_place_of_education': False,\n",
       "   'job_min_salary': None,\n",
       "   'job_max_salary': None,\n",
       "   'job_salary_currency': None,\n",
       "   'job_salary_period': None,\n",
       "   'job_highlights': {},\n",
       "   'job_job_title': None,\n",
       "   'job_posting_language': 'fr',\n",
       "   'job_onet_soc': '15113200',\n",
       "   'job_onet_job_zone': '4'},\n",
       "  {'employer_name': 'Astek Canada',\n",
       "   'employer_logo': 'https://encrypted-tbn0.gstatic.com/images?q=tbn:ANd9GcSXJ0jQRbKeV4cGrxUsV5XNJRjNMz3juHFIbC1w&s=0',\n",
       "   'employer_website': None,\n",
       "   'employer_company_type': None,\n",
       "   'job_publisher': 'LinkedIn',\n",
       "   'job_id': '60CdEW6cY8QAAAAAAAAAAA==',\n",
       "   'job_employment_type': 'FULLTIME',\n",
       "   'job_title': 'Ingénieur de données/Ingénieure de données',\n",
       "   'job_apply_link': 'https://ca.linkedin.com/jobs/view/ing%C3%A9nieur-de-donn%C3%A9es-ing%C3%A9nieure-de-donn%C3%A9es-at-astek-canada-3630379093',\n",
       "   'job_apply_is_direct': False,\n",
       "   'job_apply_quality_score': 0.5746,\n",
       "   'job_description': \"Poste permanent\\n\\n40h/semaine\\n\\nAstek recherche pour un de ses clients un Ingénieur de données\\n\\nRésumé du poste :\\n\\nEn tant qu'ingénieur de données, vous jouerez un rôle central dans l'amélioration de notre infrastructure de données, l'optimisation des pipelines de données et la garantie d'une livraison de données fiable et efficace pour notre organisation. Vous collaborerez avec des équipes interfonctionnelles, comprenant des ingénieurs logiciels, des analystes commerciaux et des chefs de produit, pour concevoir, développer et mettre en œuvre des solutions de données évolutives et robustes. Votre expertise en ingénierie et analyse de données nous permettra d'obtenir des informations précieuses à partir d'ensembles de données complexes, conduisant finalement à une prise de décision éclairée par les données dans toute l'organisation.\\n\\nResponsabilités:\\n\\n● Évaluer l'infrastructure de données actuelle : Effectuer une évaluation approfondie de notre infrastructure de données, de nos systèmes et de nos processus existants, en identifiant les domaines d'amélioration.\\n\\n● Concevoir et développer des solutions de données : Concevoir, créer et déployer des solutions de données évolutives et maintenables, y compris des pipelines de données, des processus ETL/ELT et des entrepôts de données, qui répondent aux besoins en constante évolution de nos exigences en matière d'analyse de données.\\n\\n● Modélisation et optimisation des données :Concevoir et mettre en œuvre des modèles de données efficaces, garantissant l'intégrité, les performances et l'évolution des données. Optimiser les processus de stockage et de récupération des données pour améliorer les performances globales du système.\\n\\n● Développement de pipeline de données : Développer et maintenir des pipelines de données robustes, garantissant une extraction, une transformation et un chargement (ETL) fluides et fiables des données provenant de diverses sources dans l'entrepôt de données ou le lac de données.\\n\\n● Assurance qualité des données : Mettre en œuvre des contrôles de la qualité des données, des validations et des processus de nettoyage pour garantir l'exactitude, la cohérence et la fiabilité des données dans l'ensemble des systèmes d'analyse.\\n\\n● Collaboration et documentation : Collaborer avec des équipes interfonctionnelles, y compris des ingénieurs logiciels, des analystes commerciaux, des chefs de produit, pour comprendre leurs besoins en données et fournir des conseils techniques. Documenter les processus d'ingénierie des données, les flux de travail et les meilleures pratiques.\\n\\n● Surveillance et entretien : Surveiller les pipelines de données, identifier et résoudre les problèmes de manière proactive, et assurer la haute disponibilité et les performances des systèmes d'analyse de données. Mettre en œuvre des stratégies appropriées de sauvegarde et de récupération des données.\\n\\n● Sécurité et conformité : Mettre en œuvre des mesures de sécurité et de confidentialité des données, en respectant les normes de l'industrie et les exigences réglementaires telles que GDPR ou CCPA.\\n\\n● Amélioration continue: Rester à jour avec les dernières tendances et avancées en matière d'ingénierie et d'analyse de données. Proposer et mettre en œuvre des améliorations et des optimisations pour améliorer l'efficience et l'efficacité globales de notre infrastructure de données.\\n\\n● La collaboration d'équipe: Travailler en collaboration avec d'autres membres de l'équipe, encadrer des ingénieurs de données juniors ou des passionnés, et participer activement aux initiatives de partage des connaissances et de formation croisée.\\n\\nQualifications:\\n\\n● Baccalauréat ou maîtrise en informatique, en science des données ou dans un domaine connexe.\\n\\n● Expérience avérée en tant qu'ingénieur de données, de préférence dans un projet similaire ou de migration. Au moins 2 ans d'expérience dans un poste précédent.\\n\\n● Maîtrise des langages de programmation tels que Python.\\n\\n● Expérience avec les outils et frameworks de pipeline de données (AirFlow, DBT, Kafka, Stitch, …).\\n\\n● Connaissance approfondie des bases de données relationnelles et NoSQL, de la modélisation des données et de SQL.\\n\\n● Familiarité avec les plates-formes de stockage et de traitement de données basées sur le cloud (par exemple, AWS).\\n\\n● Familiarité avec les outils de reporting décisionnel (Tableau, QuickSight, Looker, …)\\n\\n● Compréhension des concepts et des technologies d'entreposage de données (par exemple, Snowflake, Redshift, ).\\n\\n● Maîtrise des systèmes de contrôle de version (par exemple, Git) et des méthodologies de développement agiles.\\n\\n● Solide compréhension des pratiques de gouvernance, de sécurité et de conformité des données.\\n\\n● Solides compétences en résolution de problèmes et capacité à travailler dans un environnement en évolution rapide.\\n\\n● Excellentes compétences en communication, tant à l'oral qu'à l'écrit, en français et en anglais\\n\\n● Souci du détail et engagement à fournir un travail de haute qualité\",\n",
       "   'job_is_remote': True,\n",
       "   'job_posted_at_timestamp': 1690898518,\n",
       "   'job_posted_at_datetime_utc': '2023-08-01T14:01:58.000Z',\n",
       "   'job_city': 'Montréal',\n",
       "   'job_state': 'QC',\n",
       "   'job_country': 'CA',\n",
       "   'job_latitude': 45.50189,\n",
       "   'job_longitude': -73.56739,\n",
       "   'job_benefits': None,\n",
       "   'job_google_link': 'https://www.google.com/search?gl=us&hl=en&rciv=jb&q=data+engineer+in+ontario,+canada&start=30&ltype=1&chips=date_posted:month,requirements:years3under&schips=date_posted;month,requirements;years3under&ibp=htl;jobs#fpstate=tldetail&htivrt=jobs&htiq=data+engineer+in+ontario,+canada&htidocid=60CdEW6cY8QAAAAAAAAAAA%3D%3D',\n",
       "   'job_offer_expiration_datetime_utc': '2023-09-11T18:42:50.000Z',\n",
       "   'job_offer_expiration_timestamp': 1694457770,\n",
       "   'job_required_experience': {'no_experience_required': False,\n",
       "    'required_experience_in_months': 24,\n",
       "    'experience_mentioned': False,\n",
       "    'experience_preferred': False},\n",
       "   'job_required_skills': None,\n",
       "   'job_required_education': {'postgraduate_degree': False,\n",
       "    'professional_certification': False,\n",
       "    'high_school': False,\n",
       "    'associates_degree': False,\n",
       "    'bachelors_degree': True,\n",
       "    'degree_mentioned': True,\n",
       "    'degree_preferred': False,\n",
       "    'professional_certification_mentioned': False},\n",
       "   'job_experience_in_place_of_education': False,\n",
       "   'job_min_salary': None,\n",
       "   'job_max_salary': None,\n",
       "   'job_salary_currency': None,\n",
       "   'job_salary_period': None,\n",
       "   'job_highlights': {},\n",
       "   'job_job_title': None,\n",
       "   'job_posting_language': 'fr',\n",
       "   'job_onet_soc': '15113200',\n",
       "   'job_onet_job_zone': '4'},\n",
       "  {'employer_name': 'Smart Apartment Data',\n",
       "   'employer_logo': 'https://encrypted-tbn0.gstatic.com/images?q=tbn:ANd9GcStwam500QVSMNS0fq22sTx2CjeQagtnR_CYG_y&s=0',\n",
       "   'employer_website': None,\n",
       "   'employer_company_type': None,\n",
       "   'job_publisher': 'Glassdoor',\n",
       "   'job_id': 'O9rU4ao9jvIAAAAAAAAAAA==',\n",
       "   'job_employment_type': 'FULLTIME',\n",
       "   'job_title': 'Tableau Developer',\n",
       "   'job_apply_link': 'https://www.glassdoor.ca/job-listing/tableau-developer-smart-apartment-data-JV_KO0,17_KE18,38.htm?jl=1008728695061',\n",
       "   'job_apply_is_direct': True,\n",
       "   'job_apply_quality_score': 0.564,\n",
       "   'job_description': \"Are you looking to work with the latest technologies in Big Data for an award-winning software company? Smart Apartment Data is an employee-rated five-star company and a winner of the 'Houston Best & Brightest Companies to Work for'. We are looking for an experienced Tableau Developer to join our team and help us transform complex data into actionable insights.\\n\\nThe Tableau Developer will be responsible for designing, developing, and implementing data visualizations, dashboards, and reports using Tableau. They will work closely with the business users and UX designers to understand user requirements and design effective visualizations and dashboards. The Tableau Developer will also be responsible for data preparation, transformation, and modeling required to support Tableau dashboards. Knowledge of SQL Server is required to perform these tasks.\\n\\nKey Responsibilities:\\n• Design, develop, and maintain Tableau dashboards, reports, and visualizations\\n• Collaborate with business users and UX designers to understand user requirements and design effective visualizations and dashboards\\n• Prepare, transform, and model data from various sources into Tableau using SQL Server\\n• Create documentation and train end-users on the use of Tableau dashboards\\n• Troubleshoot and resolve issues related to Tableau dashboards and data sources\\n• Work with UX developers to ensure that the user interface and user experience of Tableau dashboards are intuitive and user-friendly\\n• Continuously improve the design and functionality of Tableau dashboards based on user feedback and industry best practices\\n\\nRequirements:\\n• 2+ years of experience in Tableau development\\n• Strong understanding of Microsoft SQL Server\\n• Experience with various data sources, such as relational databases, flat files, APIs, etc.\\n• Experience with data visualization best practices\\n• Strong communication and collaboration skills\\n• Ability to work independently and in a team environment\\n\\nJob Type: Full-time\\n\\nPay: $4,600.00-$5,250.00 per month\\n\\nSchedule:\\n• 8 hour shift\\n\\nExperience:\\n• Tableau: 2 years (Required)\\n• Microsoft SQL server: 2 years (Required)\\n• Business Intelligence Analyst: 2 years (Preferred)\\n• Data Analyst: 2 years (Preferred)\\n\\nWork Location: Remote\",\n",
       "   'job_is_remote': True,\n",
       "   'job_posted_at_timestamp': 1690502400,\n",
       "   'job_posted_at_datetime_utc': '2023-07-28T00:00:00.000Z',\n",
       "   'job_city': None,\n",
       "   'job_state': None,\n",
       "   'job_country': 'CA',\n",
       "   'job_latitude': 56.130367,\n",
       "   'job_longitude': -106.34677,\n",
       "   'job_benefits': None,\n",
       "   'job_google_link': 'https://www.google.com/search?gl=us&hl=en&rciv=jb&q=data+engineer+in+ontario,+canada&start=30&ltype=1&chips=date_posted:month,requirements:years3under&schips=date_posted;month,requirements;years3under&ibp=htl;jobs#fpstate=tldetail&htivrt=jobs&htiq=data+engineer+in+ontario,+canada&htidocid=O9rU4ao9jvIAAAAAAAAAAA%3D%3D',\n",
       "   'job_offer_expiration_datetime_utc': None,\n",
       "   'job_offer_expiration_timestamp': None,\n",
       "   'job_required_experience': {'no_experience_required': False,\n",
       "    'required_experience_in_months': 24,\n",
       "    'experience_mentioned': True,\n",
       "    'experience_preferred': False},\n",
       "   'job_required_skills': None,\n",
       "   'job_required_education': {'postgraduate_degree': False,\n",
       "    'professional_certification': False,\n",
       "    'high_school': False,\n",
       "    'associates_degree': False,\n",
       "    'bachelors_degree': False,\n",
       "    'degree_mentioned': False,\n",
       "    'degree_preferred': False,\n",
       "    'professional_certification_mentioned': False},\n",
       "   'job_experience_in_place_of_education': False,\n",
       "   'job_min_salary': 4600,\n",
       "   'job_max_salary': 5250,\n",
       "   'job_salary_currency': 'CAD',\n",
       "   'job_salary_period': 'MONTH',\n",
       "   'job_highlights': {},\n",
       "   'job_job_title': None,\n",
       "   'job_posting_language': 'en',\n",
       "   'job_onet_soc': '15113200',\n",
       "   'job_onet_job_zone': '4'}]}"
      ]
     },
     "execution_count": 4,
     "metadata": {},
     "output_type": "execute_result"
    }
   ],
   "source": [
    "data"
   ]
  },
  {
   "cell_type": "code",
   "execution_count": 5,
   "id": "4e38ddfb",
   "metadata": {},
   "outputs": [
    {
     "data": {
      "text/plain": [
       "'OK'"
      ]
     },
     "execution_count": 5,
     "metadata": {},
     "output_type": "execute_result"
    }
   ],
   "source": [
    "data['status']"
   ]
  },
  {
   "cell_type": "code",
   "execution_count": 7,
   "id": "ab21d3d6",
   "metadata": {},
   "outputs": [
    {
     "data": {
      "text/plain": [
       "[{'employer_name': 'Touchtunes Music Corporation',\n",
       "  'employer_logo': 'https://encrypted-tbn0.gstatic.com/images?q=tbn:ANd9GcTn3aOe0YL_ypfI2GmTfSM2Uans4stRBfTolBUO&s=0',\n",
       "  'employer_website': 'http://www.touchtunes.com',\n",
       "  'employer_company_type': None,\n",
       "  'job_publisher': 'Glassdoor',\n",
       "  'job_id': 'mqypg1vqNZIAAAAAAAAAAA==',\n",
       "  'job_employment_type': 'FULLTIME',\n",
       "  'job_title': 'Ingénieur de données',\n",
       "  'job_apply_link': 'https://fr.glassdoor.ca/job-listing/ing%C3%A9nieur-de-donn%C3%A9es-touchtunes-JV_IC2296722_KO0,20_KE21,31.htm?jl=1008714619458',\n",
       "  'job_apply_is_direct': True,\n",
       "  'job_apply_quality_score': 0.5696,\n",
       "  'job_description': \"• ️ Pôle technologique hybride de Montréal\\n• Votre mission au sein l'équipe Data Science :\\n• Vous concevrez et développerez des pipelines de données évolutifs et efficaces sur Databricks, en utilisant Spark, Python et SQL pour extraire et déplacer des données à partir de multiples sources de données au sein de l'organisation, tout en permettant aux scientifiques des données et aux gestionnaires de produits de livrer des produits excitants.\\n• Notre stack :\\n• Pipeline: Databricks\\n• Cloud: AWS\\n• Stack: Python & SQL (expert(e))\\n• Container: Docker & Kubernetes\\n• Architecture: Microservices\\n• Votre profil :\\n• Au moins 2 ans dans un rôle d'ingénierie de données ou d'ingénierie ML.\\n• Expérience des plateformes big data et des plateformes cloud\\n• Expérience dans l'assemblage de big data complexes qui répondent aux exigences fonctionnelles / non fonctionnelles de l'entreprise.\\n• Expérience de la science des données et des cadres et bibliothèques de ML.\\n• Familiarité avec l'entreposage de données, les lacs de données et les concepts de modélisation des données.\\n• Vos atouts:\\n• Expérience avec Scala ou Java\\n• Expérience avec PyTorch ou Tensorflow\\n\\n❤️ Nos avantages :\\n• Travail flexible : Environnement de bureau hybride (télétravail et burau) et possibilité de travailler à partir de n'importe où dans le monde jusqu'à 1 mois/an.\\n• Formation : Accès gratuit à Udemy, possibilité d'assister à des conférences dans le domaine de votre choix !\\n• Santé : Assurance maladie compétitive, application Dialogue et jours de maladie illimités.\\n• Déplacements domicile-travail : 50% de réduction sur le train OPUS et EXO.\\n• Bureau : Bureau accessible aux personnes handicapées.\\n• Etc. : Cotisation de contrepartie au REER, couverture vie/invalidité, déjeuner hebdomadaire gratuit et collations saines, Communauté Culture Collective de sTouchTunes.\\n• TouchTunes\\n\\nPrésent dans plus de 65\\u2009000 bars, restaurants et autres lieux de rencontre en Amérique du Nord et en Europe, TouchTunes rassemble les gens grâce à des solutions musicales et de divertissement amusant et interactif, améliorant ainsi la façon dont les gens interagissent entre eux et avec leur environnement. Nos applications mobiles natives et nos jukes sont vus et entendus par des millions de personnes chaque jour à travers le réseau et la communauté TouchTunes.\\n\\nNous sommes convaincus que notre équipe doit être aussi diversifiée que la musique que nous écoutons.\\n• TouchTunes est un fier allié de QueerTech.\",\n",
       "  'job_is_remote': True,\n",
       "  'job_posted_at_timestamp': 1689811200,\n",
       "  'job_posted_at_datetime_utc': '2023-07-20T00:00:00.000Z',\n",
       "  'job_city': 'Montréal',\n",
       "  'job_state': 'QC',\n",
       "  'job_country': 'CA',\n",
       "  'job_latitude': 45.50189,\n",
       "  'job_longitude': -73.56739,\n",
       "  'job_benefits': None,\n",
       "  'job_google_link': 'https://www.google.com/search?gl=us&hl=en&rciv=jb&q=data+engineer+in+ontario,+canada&start=30&ltype=1&chips=date_posted:month,requirements:years3under&schips=date_posted;month,requirements;years3under&ibp=htl;jobs#fpstate=tldetail&htivrt=jobs&htiq=data+engineer+in+ontario,+canada&htidocid=mqypg1vqNZIAAAAAAAAAAA%3D%3D',\n",
       "  'job_offer_expiration_datetime_utc': None,\n",
       "  'job_offer_expiration_timestamp': None,\n",
       "  'job_required_experience': {'no_experience_required': False,\n",
       "   'required_experience_in_months': 24,\n",
       "   'experience_mentioned': False,\n",
       "   'experience_preferred': False},\n",
       "  'job_required_skills': None,\n",
       "  'job_required_education': {'postgraduate_degree': False,\n",
       "   'professional_certification': False,\n",
       "   'high_school': False,\n",
       "   'associates_degree': False,\n",
       "   'bachelors_degree': False,\n",
       "   'degree_mentioned': False,\n",
       "   'degree_preferred': False,\n",
       "   'professional_certification_mentioned': False},\n",
       "  'job_experience_in_place_of_education': False,\n",
       "  'job_min_salary': None,\n",
       "  'job_max_salary': None,\n",
       "  'job_salary_currency': None,\n",
       "  'job_salary_period': None,\n",
       "  'job_highlights': {},\n",
       "  'job_job_title': None,\n",
       "  'job_posting_language': 'fr',\n",
       "  'job_onet_soc': '15113200',\n",
       "  'job_onet_job_zone': '4'},\n",
       " {'employer_name': 'Astek Canada',\n",
       "  'employer_logo': 'https://encrypted-tbn0.gstatic.com/images?q=tbn:ANd9GcSXJ0jQRbKeV4cGrxUsV5XNJRjNMz3juHFIbC1w&s=0',\n",
       "  'employer_website': None,\n",
       "  'employer_company_type': None,\n",
       "  'job_publisher': 'LinkedIn',\n",
       "  'job_id': '60CdEW6cY8QAAAAAAAAAAA==',\n",
       "  'job_employment_type': 'FULLTIME',\n",
       "  'job_title': 'Ingénieur de données/Ingénieure de données',\n",
       "  'job_apply_link': 'https://ca.linkedin.com/jobs/view/ing%C3%A9nieur-de-donn%C3%A9es-ing%C3%A9nieure-de-donn%C3%A9es-at-astek-canada-3630379093',\n",
       "  'job_apply_is_direct': False,\n",
       "  'job_apply_quality_score': 0.5746,\n",
       "  'job_description': \"Poste permanent\\n\\n40h/semaine\\n\\nAstek recherche pour un de ses clients un Ingénieur de données\\n\\nRésumé du poste :\\n\\nEn tant qu'ingénieur de données, vous jouerez un rôle central dans l'amélioration de notre infrastructure de données, l'optimisation des pipelines de données et la garantie d'une livraison de données fiable et efficace pour notre organisation. Vous collaborerez avec des équipes interfonctionnelles, comprenant des ingénieurs logiciels, des analystes commerciaux et des chefs de produit, pour concevoir, développer et mettre en œuvre des solutions de données évolutives et robustes. Votre expertise en ingénierie et analyse de données nous permettra d'obtenir des informations précieuses à partir d'ensembles de données complexes, conduisant finalement à une prise de décision éclairée par les données dans toute l'organisation.\\n\\nResponsabilités:\\n\\n● Évaluer l'infrastructure de données actuelle : Effectuer une évaluation approfondie de notre infrastructure de données, de nos systèmes et de nos processus existants, en identifiant les domaines d'amélioration.\\n\\n● Concevoir et développer des solutions de données : Concevoir, créer et déployer des solutions de données évolutives et maintenables, y compris des pipelines de données, des processus ETL/ELT et des entrepôts de données, qui répondent aux besoins en constante évolution de nos exigences en matière d'analyse de données.\\n\\n● Modélisation et optimisation des données :Concevoir et mettre en œuvre des modèles de données efficaces, garantissant l'intégrité, les performances et l'évolution des données. Optimiser les processus de stockage et de récupération des données pour améliorer les performances globales du système.\\n\\n● Développement de pipeline de données : Développer et maintenir des pipelines de données robustes, garantissant une extraction, une transformation et un chargement (ETL) fluides et fiables des données provenant de diverses sources dans l'entrepôt de données ou le lac de données.\\n\\n● Assurance qualité des données : Mettre en œuvre des contrôles de la qualité des données, des validations et des processus de nettoyage pour garantir l'exactitude, la cohérence et la fiabilité des données dans l'ensemble des systèmes d'analyse.\\n\\n● Collaboration et documentation : Collaborer avec des équipes interfonctionnelles, y compris des ingénieurs logiciels, des analystes commerciaux, des chefs de produit, pour comprendre leurs besoins en données et fournir des conseils techniques. Documenter les processus d'ingénierie des données, les flux de travail et les meilleures pratiques.\\n\\n● Surveillance et entretien : Surveiller les pipelines de données, identifier et résoudre les problèmes de manière proactive, et assurer la haute disponibilité et les performances des systèmes d'analyse de données. Mettre en œuvre des stratégies appropriées de sauvegarde et de récupération des données.\\n\\n● Sécurité et conformité : Mettre en œuvre des mesures de sécurité et de confidentialité des données, en respectant les normes de l'industrie et les exigences réglementaires telles que GDPR ou CCPA.\\n\\n● Amélioration continue: Rester à jour avec les dernières tendances et avancées en matière d'ingénierie et d'analyse de données. Proposer et mettre en œuvre des améliorations et des optimisations pour améliorer l'efficience et l'efficacité globales de notre infrastructure de données.\\n\\n● La collaboration d'équipe: Travailler en collaboration avec d'autres membres de l'équipe, encadrer des ingénieurs de données juniors ou des passionnés, et participer activement aux initiatives de partage des connaissances et de formation croisée.\\n\\nQualifications:\\n\\n● Baccalauréat ou maîtrise en informatique, en science des données ou dans un domaine connexe.\\n\\n● Expérience avérée en tant qu'ingénieur de données, de préférence dans un projet similaire ou de migration. Au moins 2 ans d'expérience dans un poste précédent.\\n\\n● Maîtrise des langages de programmation tels que Python.\\n\\n● Expérience avec les outils et frameworks de pipeline de données (AirFlow, DBT, Kafka, Stitch, …).\\n\\n● Connaissance approfondie des bases de données relationnelles et NoSQL, de la modélisation des données et de SQL.\\n\\n● Familiarité avec les plates-formes de stockage et de traitement de données basées sur le cloud (par exemple, AWS).\\n\\n● Familiarité avec les outils de reporting décisionnel (Tableau, QuickSight, Looker, …)\\n\\n● Compréhension des concepts et des technologies d'entreposage de données (par exemple, Snowflake, Redshift, ).\\n\\n● Maîtrise des systèmes de contrôle de version (par exemple, Git) et des méthodologies de développement agiles.\\n\\n● Solide compréhension des pratiques de gouvernance, de sécurité et de conformité des données.\\n\\n● Solides compétences en résolution de problèmes et capacité à travailler dans un environnement en évolution rapide.\\n\\n● Excellentes compétences en communication, tant à l'oral qu'à l'écrit, en français et en anglais\\n\\n● Souci du détail et engagement à fournir un travail de haute qualité\",\n",
       "  'job_is_remote': True,\n",
       "  'job_posted_at_timestamp': 1690898518,\n",
       "  'job_posted_at_datetime_utc': '2023-08-01T14:01:58.000Z',\n",
       "  'job_city': 'Montréal',\n",
       "  'job_state': 'QC',\n",
       "  'job_country': 'CA',\n",
       "  'job_latitude': 45.50189,\n",
       "  'job_longitude': -73.56739,\n",
       "  'job_benefits': None,\n",
       "  'job_google_link': 'https://www.google.com/search?gl=us&hl=en&rciv=jb&q=data+engineer+in+ontario,+canada&start=30&ltype=1&chips=date_posted:month,requirements:years3under&schips=date_posted;month,requirements;years3under&ibp=htl;jobs#fpstate=tldetail&htivrt=jobs&htiq=data+engineer+in+ontario,+canada&htidocid=60CdEW6cY8QAAAAAAAAAAA%3D%3D',\n",
       "  'job_offer_expiration_datetime_utc': '2023-09-11T18:42:50.000Z',\n",
       "  'job_offer_expiration_timestamp': 1694457770,\n",
       "  'job_required_experience': {'no_experience_required': False,\n",
       "   'required_experience_in_months': 24,\n",
       "   'experience_mentioned': False,\n",
       "   'experience_preferred': False},\n",
       "  'job_required_skills': None,\n",
       "  'job_required_education': {'postgraduate_degree': False,\n",
       "   'professional_certification': False,\n",
       "   'high_school': False,\n",
       "   'associates_degree': False,\n",
       "   'bachelors_degree': True,\n",
       "   'degree_mentioned': True,\n",
       "   'degree_preferred': False,\n",
       "   'professional_certification_mentioned': False},\n",
       "  'job_experience_in_place_of_education': False,\n",
       "  'job_min_salary': None,\n",
       "  'job_max_salary': None,\n",
       "  'job_salary_currency': None,\n",
       "  'job_salary_period': None,\n",
       "  'job_highlights': {},\n",
       "  'job_job_title': None,\n",
       "  'job_posting_language': 'fr',\n",
       "  'job_onet_soc': '15113200',\n",
       "  'job_onet_job_zone': '4'},\n",
       " {'employer_name': 'Smart Apartment Data',\n",
       "  'employer_logo': 'https://encrypted-tbn0.gstatic.com/images?q=tbn:ANd9GcStwam500QVSMNS0fq22sTx2CjeQagtnR_CYG_y&s=0',\n",
       "  'employer_website': None,\n",
       "  'employer_company_type': None,\n",
       "  'job_publisher': 'Glassdoor',\n",
       "  'job_id': 'O9rU4ao9jvIAAAAAAAAAAA==',\n",
       "  'job_employment_type': 'FULLTIME',\n",
       "  'job_title': 'Tableau Developer',\n",
       "  'job_apply_link': 'https://www.glassdoor.ca/job-listing/tableau-developer-smart-apartment-data-JV_KO0,17_KE18,38.htm?jl=1008728695061',\n",
       "  'job_apply_is_direct': True,\n",
       "  'job_apply_quality_score': 0.564,\n",
       "  'job_description': \"Are you looking to work with the latest technologies in Big Data for an award-winning software company? Smart Apartment Data is an employee-rated five-star company and a winner of the 'Houston Best & Brightest Companies to Work for'. We are looking for an experienced Tableau Developer to join our team and help us transform complex data into actionable insights.\\n\\nThe Tableau Developer will be responsible for designing, developing, and implementing data visualizations, dashboards, and reports using Tableau. They will work closely with the business users and UX designers to understand user requirements and design effective visualizations and dashboards. The Tableau Developer will also be responsible for data preparation, transformation, and modeling required to support Tableau dashboards. Knowledge of SQL Server is required to perform these tasks.\\n\\nKey Responsibilities:\\n• Design, develop, and maintain Tableau dashboards, reports, and visualizations\\n• Collaborate with business users and UX designers to understand user requirements and design effective visualizations and dashboards\\n• Prepare, transform, and model data from various sources into Tableau using SQL Server\\n• Create documentation and train end-users on the use of Tableau dashboards\\n• Troubleshoot and resolve issues related to Tableau dashboards and data sources\\n• Work with UX developers to ensure that the user interface and user experience of Tableau dashboards are intuitive and user-friendly\\n• Continuously improve the design and functionality of Tableau dashboards based on user feedback and industry best practices\\n\\nRequirements:\\n• 2+ years of experience in Tableau development\\n• Strong understanding of Microsoft SQL Server\\n• Experience with various data sources, such as relational databases, flat files, APIs, etc.\\n• Experience with data visualization best practices\\n• Strong communication and collaboration skills\\n• Ability to work independently and in a team environment\\n\\nJob Type: Full-time\\n\\nPay: $4,600.00-$5,250.00 per month\\n\\nSchedule:\\n• 8 hour shift\\n\\nExperience:\\n• Tableau: 2 years (Required)\\n• Microsoft SQL server: 2 years (Required)\\n• Business Intelligence Analyst: 2 years (Preferred)\\n• Data Analyst: 2 years (Preferred)\\n\\nWork Location: Remote\",\n",
       "  'job_is_remote': True,\n",
       "  'job_posted_at_timestamp': 1690502400,\n",
       "  'job_posted_at_datetime_utc': '2023-07-28T00:00:00.000Z',\n",
       "  'job_city': None,\n",
       "  'job_state': None,\n",
       "  'job_country': 'CA',\n",
       "  'job_latitude': 56.130367,\n",
       "  'job_longitude': -106.34677,\n",
       "  'job_benefits': None,\n",
       "  'job_google_link': 'https://www.google.com/search?gl=us&hl=en&rciv=jb&q=data+engineer+in+ontario,+canada&start=30&ltype=1&chips=date_posted:month,requirements:years3under&schips=date_posted;month,requirements;years3under&ibp=htl;jobs#fpstate=tldetail&htivrt=jobs&htiq=data+engineer+in+ontario,+canada&htidocid=O9rU4ao9jvIAAAAAAAAAAA%3D%3D',\n",
       "  'job_offer_expiration_datetime_utc': None,\n",
       "  'job_offer_expiration_timestamp': None,\n",
       "  'job_required_experience': {'no_experience_required': False,\n",
       "   'required_experience_in_months': 24,\n",
       "   'experience_mentioned': True,\n",
       "   'experience_preferred': False},\n",
       "  'job_required_skills': None,\n",
       "  'job_required_education': {'postgraduate_degree': False,\n",
       "   'professional_certification': False,\n",
       "   'high_school': False,\n",
       "   'associates_degree': False,\n",
       "   'bachelors_degree': False,\n",
       "   'degree_mentioned': False,\n",
       "   'degree_preferred': False,\n",
       "   'professional_certification_mentioned': False},\n",
       "  'job_experience_in_place_of_education': False,\n",
       "  'job_min_salary': 4600,\n",
       "  'job_max_salary': 5250,\n",
       "  'job_salary_currency': 'CAD',\n",
       "  'job_salary_period': 'MONTH',\n",
       "  'job_highlights': {},\n",
       "  'job_job_title': None,\n",
       "  'job_posting_language': 'en',\n",
       "  'job_onet_soc': '15113200',\n",
       "  'job_onet_job_zone': '4'}]"
      ]
     },
     "execution_count": 7,
     "metadata": {},
     "output_type": "execute_result"
    }
   ],
   "source": [
    "data['data']"
   ]
  },
  {
   "cell_type": "code",
   "execution_count": 8,
   "id": "59ee6f95",
   "metadata": {},
   "outputs": [
    {
     "data": {
      "text/plain": [
       "24"
      ]
     },
     "execution_count": 8,
     "metadata": {},
     "output_type": "execute_result"
    }
   ],
   "source": [
    "data['data'][0]['job_required_experience']['required_experience_in_months']"
   ]
  },
  {
   "cell_type": "code",
   "execution_count": 9,
   "id": "3e60b05f",
   "metadata": {},
   "outputs": [],
   "source": [
    "employer_website = []\n",
    "job_id = []\n",
    "job_employment_type = []\n",
    "job_title = []\n",
    "job_apply_link = []\n",
    "job_city = []\n",
    "job_country = []\n",
    "job_posted_at_date = []\n",
    "required_experience_in_months = []\n",
    "employer_company_type = []\n",
    "\n",
    "for i in range(len(data['data'])):\n",
    "    employer_website.append(data['data'][i]['employer_website'])\n",
    "    job_id.append(data['data'][i]['job_id'])\n",
    "    job_employment_type.append(data['data'][i]['job_employment_type'])\n",
    "    job_title.append(data['data'][i]['job_title'])\n",
    "    job_apply_link.append(data['data'][i]['job_apply_link'])\n",
    "    job_city.append(data['data'][i]['job_city'])\n",
    "    job_country.append(data['data'][i]['job_country'])\n",
    "    job_posted_at_date.append(data['data'][i]['job_posted_at_datetime_utc'][:10])\n",
    "    required_experience_in_months.append(data['data'][i]['job_required_experience']['required_experience_in_months'])\n",
    "    employer_company_type.append(data['data'][i]['employer_company_type'])\n",
    "    \n",
    "    "
   ]
  },
  {
   "cell_type": "code",
   "execution_count": 10,
   "id": "ccb5aeb8",
   "metadata": {},
   "outputs": [
    {
     "data": {
      "text/plain": [
       "['http://www.touchtunes.com', None, None]"
      ]
     },
     "execution_count": 10,
     "metadata": {},
     "output_type": "execute_result"
    }
   ],
   "source": [
    "employer_website"
   ]
  },
  {
   "cell_type": "code",
   "execution_count": 20,
   "id": "aed5e192",
   "metadata": {},
   "outputs": [
    {
     "data": {
      "text/plain": [
       "['3-DxheGgwhQAAAAAAAAAAA==',\n",
       " 'mqypg1vqNZIAAAAAAAAAAA==',\n",
       " 'FgRWhc1oNxoAAAAAAAAAAA==',\n",
       " '60CdEW6cY8QAAAAAAAAAAA==',\n",
       " 'O9rU4ao9jvIAAAAAAAAAAA==',\n",
       " '1cI233ixz7AAAAAAAAAAAA==',\n",
       " 'UDMxuQdUa3gAAAAAAAAAAA==']"
      ]
     },
     "execution_count": 20,
     "metadata": {},
     "output_type": "execute_result"
    }
   ],
   "source": [
    "job_id"
   ]
  },
  {
   "cell_type": "code",
   "execution_count": 21,
   "id": "e2f860c4",
   "metadata": {},
   "outputs": [
    {
     "data": {
      "text/plain": [
       "['FULLTIME',\n",
       " 'FULLTIME',\n",
       " 'FULLTIME',\n",
       " 'FULLTIME',\n",
       " 'FULLTIME',\n",
       " 'FULLTIME',\n",
       " 'FULLTIME']"
      ]
     },
     "execution_count": 21,
     "metadata": {},
     "output_type": "execute_result"
    }
   ],
   "source": [
    "job_employment_type"
   ]
  },
  {
   "cell_type": "code",
   "execution_count": 22,
   "id": "832d8610",
   "metadata": {},
   "outputs": [
    {
     "data": {
      "text/plain": [
       "['Data Scientist, Forest Ecosystems',\n",
       " 'Ingénieur de données',\n",
       " 'Software Verification Engineer',\n",
       " 'Ingénieur de données/Ingénieure de données',\n",
       " 'Tableau Developer',\n",
       " 'Data Scientist at The Leading Niche',\n",
       " 'Frontend Engineer']"
      ]
     },
     "execution_count": 22,
     "metadata": {},
     "output_type": "execute_result"
    }
   ],
   "source": [
    "job_title "
   ]
  },
  {
   "cell_type": "code",
   "execution_count": 23,
   "id": "7bf4a312",
   "metadata": {},
   "outputs": [
    {
     "data": {
      "text/plain": [
       "['https://www.careersin.space/job/planet-canada-remote-data-scientist-forest-ecosystems/',\n",
       " 'https://fr.glassdoor.ca/job-listing/ing%C3%A9nieur-de-donn%C3%A9es-touchtunes-JV_IC2296722_KO0,20_KE21,31.htm?jl=1008714619458',\n",
       " 'https://ca.linkedin.com/jobs/view/software-verification-engineer-at-cs-group-3614691782',\n",
       " 'https://ca.linkedin.com/jobs/view/ing%C3%A9nieur-de-donn%C3%A9es-ing%C3%A9nieure-de-donn%C3%A9es-at-astek-canada-3630379093',\n",
       " 'https://www.glassdoor.ca/job-listing/tableau-developer-smart-apartment-data-JV_KO0,17_KE18,38.htm?jl=1008728695061',\n",
       " 'https://www.remotejobswebo.com/job/data-scientist-at-the-leading-niche/',\n",
       " 'https://ca.linkedin.com/jobs/view/frontend-engineer-at-treasure-data-3657183356']"
      ]
     },
     "execution_count": 23,
     "metadata": {},
     "output_type": "execute_result"
    }
   ],
   "source": [
    "job_apply_link"
   ]
  },
  {
   "cell_type": "code",
   "execution_count": 24,
   "id": "b8b1b5d2",
   "metadata": {},
   "outputs": [
    {
     "data": {
      "text/plain": [
       "[None, 'Montréal', 'Montréal', 'Montréal', None, None, None]"
      ]
     },
     "execution_count": 24,
     "metadata": {},
     "output_type": "execute_result"
    }
   ],
   "source": [
    "job_city"
   ]
  },
  {
   "cell_type": "code",
   "execution_count": 25,
   "id": "d61137dc",
   "metadata": {},
   "outputs": [
    {
     "data": {
      "text/plain": [
       "['CA', 'CA', 'CA', 'CA', 'CA', 'US', 'CA']"
      ]
     },
     "execution_count": 25,
     "metadata": {},
     "output_type": "execute_result"
    }
   ],
   "source": [
    "job_country"
   ]
  },
  {
   "cell_type": "code",
   "execution_count": 26,
   "id": "9d4f27c7",
   "metadata": {},
   "outputs": [
    {
     "data": {
      "text/plain": [
       "['2023-07-09',\n",
       " '2023-07-20',\n",
       " '2023-07-28',\n",
       " '2023-07-11',\n",
       " '2023-07-28',\n",
       " '2023-07-16',\n",
       " '2023-07-29']"
      ]
     },
     "execution_count": 26,
     "metadata": {},
     "output_type": "execute_result"
    }
   ],
   "source": [
    "job_posted_at_date\n"
   ]
  },
  {
   "cell_type": "code",
   "execution_count": 18,
   "id": "18bc66f9",
   "metadata": {},
   "outputs": [
    {
     "data": {
      "text/plain": [
       "[24, 24, 24, 24, 24, 24, 24]"
      ]
     },
     "execution_count": 18,
     "metadata": {},
     "output_type": "execute_result"
    }
   ],
   "source": [
    "required_experience_in_months"
   ]
  },
  {
   "cell_type": "code",
   "execution_count": 27,
   "id": "77753c1a",
   "metadata": {},
   "outputs": [
    {
     "data": {
      "text/plain": [
       "[None, None, 'Computer Services', None, None, None, None]"
      ]
     },
     "execution_count": 27,
     "metadata": {},
     "output_type": "execute_result"
    }
   ],
   "source": [
    "employer_company_type"
   ]
  },
  {
   "cell_type": "code",
   "execution_count": null,
   "id": "96a6a6f7",
   "metadata": {},
   "outputs": [],
   "source": []
  }
 ],
 "metadata": {
  "kernelspec": {
   "display_name": "Python 3 (ipykernel)",
   "language": "python",
   "name": "python3"
  },
  "language_info": {
   "codemirror_mode": {
    "name": "ipython",
    "version": 3
   },
   "file_extension": ".py",
   "mimetype": "text/x-python",
   "name": "python",
   "nbconvert_exporter": "python",
   "pygments_lexer": "ipython3",
   "version": "3.11.3"
  }
 },
 "nbformat": 4,
 "nbformat_minor": 5
}
